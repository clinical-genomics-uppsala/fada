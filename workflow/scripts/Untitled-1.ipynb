{
 "cells": [
  {
   "cell_type": "code",
   "execution_count": 5,
   "metadata": {},
   "outputs": [],
   "source": [
    "import pandas as pd\n",
    "import re"
   ]
  },
  {
   "cell_type": "code",
   "execution_count": 2,
   "metadata": {},
   "outputs": [],
   "source": [
    "def parse_logfile(logfile):\n",
    "    \"\"\"\n",
    "\n",
    "    Modified from https://github.com/MultiQC/MultiQC/blob/main/multiqc/modules/pbmarkdup/pbmarkdup.py\n",
    "\n",
    "    Parse the standard output from pbmarkdup\n",
    "\n",
    "    This is currently quite ugly, since pbmarkdup does not have an easily\n",
    "    parsable output format. See this github issue:\n",
    "    https://github.com/PacificBiosciences/pbbioconda/issues/365\n",
    "\n",
    "    For now, we just assume that the data fields are always in the same\n",
    "    order, without any missing values.\n",
    "    \"\"\"\n",
    "\n",
    "    with open(logfile, 'r') as file_content:\n",
    "\n",
    "        # The number of spaces in the header can vary, based on the length of\n",
    "        # the name of the library. We therefore need a regex to match the\n",
    "        # header.\n",
    "        header_pattern = \"LIBRARY +READS +UNIQUE MOLECULES +DUPLICATE READS\"\n",
    "        pattern = re.compile(header_pattern)\n",
    "\n",
    "        # The file header\n",
    "        file_header = next(file_content).strip()\n",
    "\n",
    "        # Log an error if the header doesn't match the expected pattern\n",
    "        if not re.match(pattern, file_header):\n",
    "            fname = logfile[\"fn\"]\n",
    "            log.error(f\"Can't parse file '{fname}', unknown header: '{file_header}'\")\n",
    "            return False\n",
    "\n",
    "        data = dict()\n",
    "\n",
    "        # Each parsable line is either for a library, or for 'TOTAL', the sum\n",
    "        # of all parsed libraries\n",
    "        for line in file_content:\n",
    "            # Lines which start with --- denote separators in the file, and do\n",
    "            # not need to be parsed\n",
    "            if line.startswith(\"-\"):\n",
    "                continue\n",
    "\n",
    "            # Not very nice, we assume that all fields are always present\n",
    "            lib_name, reads, unique_mol_count, unique_mol_perc, duplicate_count, duplicate_perc = line.split()\n",
    "\n",
    "            # We are only interested in the counts, not the percentages\n",
    "            data[lib_name] = {\n",
    "                \"READS\": int(reads),\n",
    "                \"UNIQUE MOLECULES\": int(unique_mol_count),\n",
    "                \"DUPLICATE READS\": int(duplicate_count),\n",
    "            }\n",
    "\n",
    "    return data\n"
   ]
  },
  {
   "cell_type": "code",
   "execution_count": 3,
   "metadata": {},
   "outputs": [
    {
     "ename": "FileNotFoundError",
     "evalue": "[Errno 2] No such file or directory: 'twist_cancer_test/prealignment/pbmarkdup/NA24385_N_m84045_241002_160854_s3_AATGATACGGCGACCACCGAGATCTACACTTCTGCATCGACACTCTTTCCCTACACGACGCTCTTCCGATCT-CAAGCAGAAGACGGCATACGAGATCCGATTGCAGGTGACTGGAGTTCAGACGTGTGCTCTTCCGATCT.bam.log'",
     "output_type": "error",
     "traceback": [
      "\u001b[0;31m---------------------------------------------------------------------------\u001b[0m",
      "\u001b[0;31mFileNotFoundError\u001b[0m                         Traceback (most recent call last)",
      "Cell \u001b[0;32mIn[3], line 3\u001b[0m\n\u001b[1;32m      1\u001b[0m pbmarkdup_log \u001b[38;5;241m=\u001b[39m \u001b[38;5;124m\"\u001b[39m\u001b[38;5;124mtwist_cancer_test/prealignment/pbmarkdup/NA24385_N_m84045_241002_160854_s3_AATGATACGGCGACCACCGAGATCTACACTTCTGCATCGACACTCTTTCCCTACACGACGCTCTTCCGATCT-CAAGCAGAAGACGGCATACGAGATCCGATTGCAGGTGACTGGAGTTCAGACGTGTGCTCTTCCGATCT.bam.log\u001b[39m\u001b[38;5;124m\"\u001b[39m\n\u001b[0;32m----> 3\u001b[0m pbmarkdups_data \u001b[38;5;241m=\u001b[39m \u001b[43mparse_logfile\u001b[49m\u001b[43m(\u001b[49m\u001b[43mpbmarkdup_log\u001b[49m\u001b[43m)\u001b[49m\n",
      "Cell \u001b[0;32mIn[2], line 16\u001b[0m, in \u001b[0;36mparse_logfile\u001b[0;34m(logfile)\u001b[0m\n\u001b[1;32m      1\u001b[0m \u001b[38;5;28;01mdef\u001b[39;00m \u001b[38;5;21mparse_logfile\u001b[39m(logfile):\n\u001b[1;32m      2\u001b[0m \u001b[38;5;250m    \u001b[39m\u001b[38;5;124;03m\"\"\"\u001b[39;00m\n\u001b[1;32m      3\u001b[0m \n\u001b[1;32m      4\u001b[0m \u001b[38;5;124;03m    Modified from https://github.com/MultiQC/MultiQC/blob/main/multiqc/modules/pbmarkdup/pbmarkdup.py\u001b[39;00m\n\u001b[0;32m   (...)\u001b[0m\n\u001b[1;32m     13\u001b[0m \u001b[38;5;124;03m    order, without any missing values.\u001b[39;00m\n\u001b[1;32m     14\u001b[0m \u001b[38;5;124;03m    \"\"\"\u001b[39;00m\n\u001b[0;32m---> 16\u001b[0m     \u001b[38;5;28;01mwith\u001b[39;00m \u001b[38;5;28;43mopen\u001b[39;49m\u001b[43m(\u001b[49m\u001b[43mlogfile\u001b[49m\u001b[43m,\u001b[49m\u001b[43m \u001b[49m\u001b[38;5;124;43m'\u001b[39;49m\u001b[38;5;124;43mr\u001b[39;49m\u001b[38;5;124;43m'\u001b[39;49m\u001b[43m)\u001b[49m \u001b[38;5;28;01mas\u001b[39;00m file_content:\n\u001b[1;32m     17\u001b[0m \n\u001b[1;32m     18\u001b[0m         \u001b[38;5;66;03m# The number of spaces in the header can vary, based on the length of\u001b[39;00m\n\u001b[1;32m     19\u001b[0m         \u001b[38;5;66;03m# the name of the library. We therefore need a regex to match the\u001b[39;00m\n\u001b[1;32m     20\u001b[0m         \u001b[38;5;66;03m# header.\u001b[39;00m\n\u001b[1;32m     21\u001b[0m         header_pattern \u001b[38;5;241m=\u001b[39m \u001b[38;5;124m\"\u001b[39m\u001b[38;5;124mLIBRARY +READS +UNIQUE MOLECULES +DUPLICATE READS\u001b[39m\u001b[38;5;124m\"\u001b[39m\n\u001b[1;32m     22\u001b[0m         pattern \u001b[38;5;241m=\u001b[39m re\u001b[38;5;241m.\u001b[39mcompile(header_pattern)\n",
      "File \u001b[0;32m~/padraic_testing/fada/venv/lib64/python3.9/site-packages/IPython/core/interactiveshell.py:310\u001b[0m, in \u001b[0;36m_modified_open\u001b[0;34m(file, *args, **kwargs)\u001b[0m\n\u001b[1;32m    303\u001b[0m \u001b[38;5;28;01mif\u001b[39;00m file \u001b[38;5;129;01min\u001b[39;00m {\u001b[38;5;241m0\u001b[39m, \u001b[38;5;241m1\u001b[39m, \u001b[38;5;241m2\u001b[39m}:\n\u001b[1;32m    304\u001b[0m     \u001b[38;5;28;01mraise\u001b[39;00m \u001b[38;5;167;01mValueError\u001b[39;00m(\n\u001b[1;32m    305\u001b[0m         \u001b[38;5;124mf\u001b[39m\u001b[38;5;124m\"\u001b[39m\u001b[38;5;124mIPython won\u001b[39m\u001b[38;5;124m'\u001b[39m\u001b[38;5;124mt let you open fd=\u001b[39m\u001b[38;5;132;01m{\u001b[39;00mfile\u001b[38;5;132;01m}\u001b[39;00m\u001b[38;5;124m by default \u001b[39m\u001b[38;5;124m\"\u001b[39m\n\u001b[1;32m    306\u001b[0m         \u001b[38;5;124m\"\u001b[39m\u001b[38;5;124mas it is likely to crash IPython. If you know what you are doing, \u001b[39m\u001b[38;5;124m\"\u001b[39m\n\u001b[1;32m    307\u001b[0m         \u001b[38;5;124m\"\u001b[39m\u001b[38;5;124myou can use builtins\u001b[39m\u001b[38;5;124m'\u001b[39m\u001b[38;5;124m open.\u001b[39m\u001b[38;5;124m\"\u001b[39m\n\u001b[1;32m    308\u001b[0m     )\n\u001b[0;32m--> 310\u001b[0m \u001b[38;5;28;01mreturn\u001b[39;00m \u001b[43mio_open\u001b[49m\u001b[43m(\u001b[49m\u001b[43mfile\u001b[49m\u001b[43m,\u001b[49m\u001b[43m \u001b[49m\u001b[38;5;241;43m*\u001b[39;49m\u001b[43margs\u001b[49m\u001b[43m,\u001b[49m\u001b[43m \u001b[49m\u001b[38;5;241;43m*\u001b[39;49m\u001b[38;5;241;43m*\u001b[39;49m\u001b[43mkwargs\u001b[49m\u001b[43m)\u001b[49m\n",
      "\u001b[0;31mFileNotFoundError\u001b[0m: [Errno 2] No such file or directory: 'twist_cancer_test/prealignment/pbmarkdup/NA24385_N_m84045_241002_160854_s3_AATGATACGGCGACCACCGAGATCTACACTTCTGCATCGACACTCTTTCCCTACACGACGCTCTTCCGATCT-CAAGCAGAAGACGGCATACGAGATCCGATTGCAGGTGACTGGAGTTCAGACGTGTGCTCTTCCGATCT.bam.log'"
     ]
    }
   ],
   "source": [
    "pbmarkdup_log = \"twist_cancer_test/prealignment/pbmarkdup/NA24385_N_m84045_241002_160854_s3_AATGATACGGCGACCACCGAGATCTACACTTCTGCATCGACACTCTTTCCCTACACGACGCTCTTCCGATCT-CAAGCAGAAGACGGCATACGAGATCCGATTGCAGGTGACTGGAGTTCAGACGTGTGCTCTTCCGATCT.bam.log\"\n",
    "\n",
    "pbmarkdups_data = parse_logfile(pbmarkdup_log)\n"
   ]
  },
  {
   "cell_type": "code",
   "execution_count": 5,
   "metadata": {},
   "outputs": [
    {
     "name": "stdout",
     "output_type": "stream",
     "text": [
      "export_qc_xlsx_tc_report.py  Untitled-1.ipynb\n"
     ]
    }
   ],
   "source": [
    "!ls"
   ]
  },
  {
   "cell_type": "code",
   "execution_count": 4,
   "metadata": {},
   "outputs": [
    {
     "name": "stdout",
     "output_type": "stream",
     "text": [
      "export_qc_xlsx_tc_report.py  Untitled-1.ipynb\n"
     ]
    }
   ],
   "source": []
  }
 ],
 "metadata": {
  "kernelspec": {
   "display_name": "venv",
   "language": "python",
   "name": "python3"
  },
  "language_info": {
   "codemirror_mode": {
    "name": "ipython",
    "version": 3
   },
   "file_extension": ".py",
   "mimetype": "text/x-python",
   "name": "python",
   "nbconvert_exporter": "python",
   "pygments_lexer": "ipython3",
   "version": "3.9.19"
  }
 },
 "nbformat": 4,
 "nbformat_minor": 2
}
